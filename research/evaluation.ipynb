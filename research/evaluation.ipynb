{
 "cells": [
  {
   "cell_type": "code",
   "execution_count": 1,
   "metadata": {},
   "outputs": [
    {
     "data": {
      "text/plain": [
       "'f:\\\\DS\\\\TextSummarizer\\\\Text-Summarizer\\\\research'"
      ]
     },
     "execution_count": 1,
     "metadata": {},
     "output_type": "execute_result"
    }
   ],
   "source": [
    "%pwd"
   ]
  },
  {
   "cell_type": "code",
   "execution_count": 2,
   "metadata": {},
   "outputs": [],
   "source": [
    "import os\n",
    "os.chdir(\"../\")"
   ]
  },
  {
   "cell_type": "code",
   "execution_count": 3,
   "metadata": {},
   "outputs": [
    {
     "data": {
      "text/plain": [
       "'f:\\\\DS\\\\TextSummarizer\\\\Text-Summarizer'"
      ]
     },
     "execution_count": 3,
     "metadata": {},
     "output_type": "execute_result"
    }
   ],
   "source": [
    "%pwd"
   ]
  },
  {
   "cell_type": "code",
   "execution_count": 4,
   "metadata": {},
   "outputs": [],
   "source": [
    "from dataclasses import dataclass\n",
    "from pathlib import Path\n",
    "\n",
    "@dataclass(frozen=True)\n",
    "class ModelEvaluationConfig:\n",
    "    root_dir: Path\n",
    "    data_dir: Path\n",
    "    model_path: Path\n",
    "    tokenizer_path: Path\n",
    "    metric_file_name: Path"
   ]
  },
  {
   "cell_type": "code",
   "execution_count": 5,
   "metadata": {},
   "outputs": [],
   "source": [
    "from textSummarizer.constants import *\n",
    "from textSummarizer.utils.common_utils import read_yaml, create_directories"
   ]
  },
  {
   "cell_type": "code",
   "execution_count": 6,
   "metadata": {},
   "outputs": [],
   "source": [
    "class ConfigurationManager:\n",
    "\n",
    "    def __init__(\n",
    "            self,\n",
    "            config_file_path=CONFIG_FILE_PATH,\n",
    "            params_file_path=PARAMS_FILE_PATH\n",
    "            ):\n",
    "        self.config = read_yaml(config_file_path)\n",
    "        self.params = read_yaml(params_file_path)\n",
    "\n",
    "        create_directories([self.config.artifacts_root])\n",
    "\n",
    "    def fetch_modelevaluation_config(self) -> ModelEvaluationConfig:\n",
    "        config = self.config.model_evaluation\n",
    "\n",
    "        create_directories([config.root_dir])\n",
    "\n",
    "        data_evaluation_config = ModelEvaluationConfig(\n",
    "            root_dir=config.root_dir,\n",
    "            data_dir=config.data_dir,\n",
    "            model_path =config.model_path,\n",
    "            tokenizer_path = config.tokenizer_path,\n",
    "            metric_file_name = config.metric_file_name\n",
    "        )\n",
    "\n",
    "        return data_evaluation_config\n"
   ]
  },
  {
   "cell_type": "code",
   "execution_count": 7,
   "metadata": {},
   "outputs": [
    {
     "name": "stderr",
     "output_type": "stream",
     "text": [
      "c:\\Users\\Hi\\.conda\\envs\\textS\\lib\\site-packages\\tqdm\\auto.py:21: TqdmWarning: IProgress not found. Please update jupyter and ipywidgets. See https://ipywidgets.readthedocs.io/en/stable/user_install.html\n",
      "  from .autonotebook import tqdm as notebook_tqdm\n"
     ]
    }
   ],
   "source": [
    "import transformers"
   ]
  },
  {
   "cell_type": "code",
   "execution_count": null,
   "metadata": {},
   "outputs": [],
   "source": [
    "from datasets import Eva"
   ]
  },
  {
   "cell_type": "code",
   "execution_count": null,
   "metadata": {},
   "outputs": [
    {
     "name": "stdout",
     "output_type": "stream",
     "text": [
      "[2024-04-21 02:51:04,788: INFO: config: PyTorch version 2.2.1 available.]\n"
     ]
    }
   ],
   "source": [
    "from transformers import AutoModelForSeq2SeqLM, AutoTokenizer\n",
    "from datasets import load_dataset, load_from_disk, load_metric\n",
    "import torch\n",
    "import pandas as pd\n",
    "from tqdm import tqdm\n",
    "import evaluate"
   ]
  },
  {
   "cell_type": "code",
   "execution_count": 33,
   "metadata": {},
   "outputs": [],
   "source": [
    "class ModelEvaluation:\n",
    "    def __init__(\n",
    "            self,\n",
    "            config: ModelEvaluationConfig):\n",
    "        self.config = config\n",
    "\n",
    "\n",
    "    # Evaluation\n",
    "\n",
    "    def generate_batch_sized_chunks(self, list_of_elements, batch_size):\n",
    "        \"\"\"split the dataset into smaller batches that we can process simultaneously\n",
    "        Yield successive batch-sized chunks from list_of_elements.\"\"\"\n",
    "        for i in range(0, len(list_of_elements), batch_size):\n",
    "            yield list_of_elements[i : i + batch_size]\n",
    "\n",
    "\n",
    "\n",
    "    def calculate_metric_on_test_ds(self, dataset, metric, model, tokenizer, \n",
    "                                batch_size=16, device=\"cuda\" if torch.cuda.is_available() else \"cpu\", \n",
    "                                column_text=\"article\", \n",
    "                                column_summary=\"highlights\"):\n",
    "        article_batches = list(self.generate_batch_sized_chunks(dataset[column_text], batch_size))\n",
    "        target_batches = list(self.generate_batch_sized_chunks(dataset[column_summary], batch_size))\n",
    "\n",
    "        for article_batch, target_batch in tqdm(\n",
    "            zip(article_batches, target_batches), total=len(article_batches)):\n",
    "            \n",
    "            inputs = tokenizer(article_batch, max_length=1024,  truncation=True, \n",
    "                            padding=\"max_length\", return_tensors=\"pt\")\n",
    "            \n",
    "            summaries = model.generate(input_ids=inputs[\"input_ids\"].to(device),\n",
    "                            attention_mask=inputs[\"attention_mask\"].to(device), \n",
    "                            length_penalty=0.8, num_beams=8, max_length=128)\n",
    "            ''' parameter for length penalty ensures that the model does not generate sequences that are too long. '''\n",
    "            \n",
    "            # Finally, we decode the generated texts, \n",
    "            # replace the  token, and add the decoded texts with the references to the metric.\n",
    "            decoded_summaries = [tokenizer.decode(s, skip_special_tokens=True, \n",
    "                                    clean_up_tokenization_spaces=True) \n",
    "                for s in summaries]      \n",
    "            \n",
    "            decoded_summaries = [d.replace(\"\", \" \") for d in decoded_summaries]\n",
    "            \n",
    "            \n",
    "            metric.add_batch(predictions=decoded_summaries, references=target_batch)\n",
    "            \n",
    "        #  Finally compute and return the ROUGE scores.\n",
    "        score = metric.compute()\n",
    "        return score\n",
    "    \n",
    "    def evaluate(self):\n",
    "        device = \"cuda\" if torch.cuda.is_available() else \"cpu\"\n",
    "        tokenizer = AutoTokenizer.from_pretrained(self.config.tokenizer_path)\n",
    "        model_pegasus = AutoModelForSeq2SeqLM.from_pretrained(self.config.model_path).to(device)\n",
    "\n",
    "        #loading the data\n",
    "        dataset_samsum_pt = load_from_disk(self.config.data_dir)\n",
    "\n",
    "        rouge_names = [\"rouge1\", \"rouge2\", \"rougeL\", \"rougeLsum\"]\n",
    "        rouge_metric = load_metric('rouge')#evaluate.load('rouge')\n",
    "\n",
    "        score = self.calculate_metric_on_test_ds(dataset_samsum_pt['test'][0:10], rouge_metric, model_pegasus, tokenizer, batch_size = 2, column_text = 'dialogue', column_summary= 'summary')\n",
    "        return score\n",
    "        # rouge_dict = dict((rn, score[rn].mid.fmeasure ) for rn in rouge_names )\n",
    "\n",
    "        # df = pd.DataFrame(rouge_dict, index = [f'pegasus'] )\n",
    "        # df.to_csv(self.config.metric_file_name, index=False)"
   ]
  },
  {
   "cell_type": "code",
   "execution_count": 40,
   "metadata": {},
   "outputs": [
    {
     "ename": "AttributeError",
     "evalue": "'numpy.float64' object has no attribute 'mid'",
     "output_type": "error",
     "traceback": [
      "\u001b[1;31m---------------------------------------------------------------------------\u001b[0m",
      "\u001b[1;31mAttributeError\u001b[0m                            Traceback (most recent call last)",
      "Cell \u001b[1;32mIn[40], line 1\u001b[0m\n\u001b[1;32m----> 1\u001b[0m rouge_dict \u001b[38;5;241m=\u001b[39m \u001b[38;5;28;43mdict\u001b[39;49m\u001b[43m(\u001b[49m\u001b[43m(\u001b[49m\u001b[43mrn\u001b[49m\u001b[43m,\u001b[49m\u001b[43m \u001b[49m\u001b[43mscore2\u001b[49m\u001b[43m[\u001b[49m\u001b[43mrn\u001b[49m\u001b[43m]\u001b[49m\u001b[38;5;241;43m.\u001b[39;49m\u001b[43mmid\u001b[49m\u001b[38;5;241;43m.\u001b[39;49m\u001b[43mfmeasure\u001b[49m\u001b[43m \u001b[49m\u001b[43m)\u001b[49m\u001b[43m \u001b[49m\u001b[38;5;28;43;01mfor\u001b[39;49;00m\u001b[43m \u001b[49m\u001b[43mrn\u001b[49m\u001b[43m \u001b[49m\u001b[38;5;129;43;01min\u001b[39;49;00m\u001b[43m \u001b[49m\u001b[43m[\u001b[49m\u001b[38;5;124;43m\"\u001b[39;49m\u001b[38;5;124;43mrouge1\u001b[39;49m\u001b[38;5;124;43m\"\u001b[39;49m\u001b[43m,\u001b[49m\u001b[43m \u001b[49m\u001b[38;5;124;43m\"\u001b[39;49m\u001b[38;5;124;43mrouge2\u001b[39;49m\u001b[38;5;124;43m\"\u001b[39;49m\u001b[43m,\u001b[49m\u001b[43m \u001b[49m\u001b[38;5;124;43m\"\u001b[39;49m\u001b[38;5;124;43mrougeL\u001b[39;49m\u001b[38;5;124;43m\"\u001b[39;49m\u001b[43m,\u001b[49m\u001b[43m \u001b[49m\u001b[38;5;124;43m\"\u001b[39;49m\u001b[38;5;124;43mrougeLsum\u001b[39;49m\u001b[38;5;124;43m\"\u001b[39;49m\u001b[43m]\u001b[49m\u001b[43m \u001b[49m\u001b[43m)\u001b[49m\n",
      "Cell \u001b[1;32mIn[40], line 1\u001b[0m, in \u001b[0;36m<genexpr>\u001b[1;34m(.0)\u001b[0m\n\u001b[1;32m----> 1\u001b[0m rouge_dict \u001b[38;5;241m=\u001b[39m \u001b[38;5;28mdict\u001b[39m((rn, \u001b[43mscore2\u001b[49m\u001b[43m[\u001b[49m\u001b[43mrn\u001b[49m\u001b[43m]\u001b[49m\u001b[38;5;241;43m.\u001b[39;49m\u001b[43mmid\u001b[49m\u001b[38;5;241m.\u001b[39mfmeasure ) \u001b[38;5;28;01mfor\u001b[39;00m rn \u001b[38;5;129;01min\u001b[39;00m [\u001b[38;5;124m\"\u001b[39m\u001b[38;5;124mrouge1\u001b[39m\u001b[38;5;124m\"\u001b[39m, \u001b[38;5;124m\"\u001b[39m\u001b[38;5;124mrouge2\u001b[39m\u001b[38;5;124m\"\u001b[39m, \u001b[38;5;124m\"\u001b[39m\u001b[38;5;124mrougeL\u001b[39m\u001b[38;5;124m\"\u001b[39m, \u001b[38;5;124m\"\u001b[39m\u001b[38;5;124mrougeLsum\u001b[39m\u001b[38;5;124m\"\u001b[39m] )\n",
      "\u001b[1;31mAttributeError\u001b[0m: 'numpy.float64' object has no attribute 'mid'"
     ]
    }
   ],
   "source": [
    "rouge_dict = dict((rn, score2[rn].mid.fmeasure ) for rn in [\"rouge1\", \"rouge2\", \"rougeL\", \"rougeLsum\"] )"
   ]
  },
  {
   "cell_type": "code",
   "execution_count": 24,
   "metadata": {},
   "outputs": [
    {
     "name": "stderr",
     "output_type": "stream",
     "text": [
      "Downloading builder script: 100%|██████████| 6.27k/6.27k [00:00<00:00, 6.50MB/s]\n"
     ]
    },
    {
     "data": {
      "text/plain": [
       "EvaluationModule(name: \"rouge\", module_type: \"metric\", features: [{'predictions': Value(dtype='string', id='sequence'), 'references': Sequence(feature=Value(dtype='string', id='sequence'), length=-1, id=None)}, {'predictions': Value(dtype='string', id='sequence'), 'references': Value(dtype='string', id='sequence')}], usage: \"\"\"\n",
       "Calculates average rouge scores for a list of hypotheses and references\n",
       "Args:\n",
       "    predictions: list of predictions to score. Each prediction\n",
       "        should be a string with tokens separated by spaces.\n",
       "    references: list of reference for each prediction. Each\n",
       "        reference should be a string with tokens separated by spaces.\n",
       "    rouge_types: A list of rouge types to calculate.\n",
       "        Valid names:\n",
       "        `\"rouge{n}\"` (e.g. `\"rouge1\"`, `\"rouge2\"`) where: {n} is the n-gram based scoring,\n",
       "        `\"rougeL\"`: Longest common subsequence based scoring.\n",
       "        `\"rougeLsum\"`: rougeLsum splits text using `\"\n",
       "\"`.\n",
       "        See details in https://github.com/huggingface/datasets/issues/617\n",
       "    use_stemmer: Bool indicating whether Porter stemmer should be used to strip word suffixes.\n",
       "    use_aggregator: Return aggregates if this is set to True\n",
       "Returns:\n",
       "    rouge1: rouge_1 (f1),\n",
       "    rouge2: rouge_2 (f1),\n",
       "    rougeL: rouge_l (f1),\n",
       "    rougeLsum: rouge_lsum (f1)\n",
       "Examples:\n",
       "\n",
       "    >>> rouge = evaluate.load('rouge')\n",
       "    >>> predictions = [\"hello there\", \"general kenobi\"]\n",
       "    >>> references = [\"hello there\", \"general kenobi\"]\n",
       "    >>> results = rouge.compute(predictions=predictions, references=references)\n",
       "    >>> print(results)\n",
       "    {'rouge1': 1.0, 'rouge2': 1.0, 'rougeL': 1.0, 'rougeLsum': 1.0}\n",
       "\"\"\", stored examples: 0)"
      ]
     },
     "execution_count": 24,
     "metadata": {},
     "output_type": "execute_result"
    }
   ],
   "source": [
    "evaluate.load('rouge')"
   ]
  },
  {
   "cell_type": "code",
   "execution_count": 34,
   "metadata": {},
   "outputs": [
    {
     "name": "stderr",
     "output_type": "stream",
     "text": [
      "100%|██████████| 5/5 [09:26<00:00, 113.26s/it]\n"
     ]
    },
    {
     "name": "stdout",
     "output_type": "stream",
     "text": [
      "[2024-04-21 04:12:36,046: INFO: rouge_scorer: Using default tokenizer.]\n"
     ]
    },
    {
     "data": {
      "text/plain": [
       "{'rouge1': 0.019759699923449933,\n",
       " 'rouge2': 0.0,\n",
       " 'rougeL': 0.019863271899249385,\n",
       " 'rougeLsum': 0.019720047669079623}"
      ]
     },
     "execution_count": 34,
     "metadata": {},
     "output_type": "execute_result"
    }
   ],
   "source": [
    "score2  = model_evaluation_config.evaluate()\n",
    "score2"
   ]
  },
  {
   "cell_type": "code",
   "execution_count": 38,
   "metadata": {},
   "outputs": [
    {
     "data": {
      "text/plain": [
       "0.019759699923449933"
      ]
     },
     "execution_count": 38,
     "metadata": {},
     "output_type": "execute_result"
    }
   ],
   "source": [
    "score2['rouge1']"
   ]
  },
  {
   "cell_type": "code",
   "execution_count": 35,
   "metadata": {},
   "outputs": [
    {
     "data": {
      "text/plain": [
       "dict"
      ]
     },
     "execution_count": 35,
     "metadata": {},
     "output_type": "execute_result"
    }
   ],
   "source": [
    "type(score)"
   ]
  },
  {
   "cell_type": "code",
   "execution_count": null,
   "metadata": {},
   "outputs": [],
   "source": [
    "b = {{'rouge1': 0.019759699923449933,\n",
    " 'rouge2': 0.0,\n",
    " 'rougeL': 0.019863271899249385,\n",
    " 'rougeLsum': 0.019720047669079623},{'rouge1': 0.019759699923449933,\n",
    " 'rouge2': 0.0,\n",
    " 'rougeL': 0.019863271899249385,\n",
    " 'rougeLsum': 0.019720047669079623},{'rouge1': 0.019759699923449933,\n",
    " 'rouge2': 0.0,\n",
    " 'rougeL': 0.019863271899249385,\n",
    " 'rougeLsum': 0.019720047669079623}}"
   ]
  },
  {
   "cell_type": "code",
   "execution_count": 32,
   "metadata": {},
   "outputs": [
    {
     "data": {
      "text/plain": [
       "{'rouge1': 0.019759699923449933,\n",
       " 'rouge2': 0.0,\n",
       " 'rougeL': 0.019863271899249385,\n",
       " 'rougeLsum': 0.019720047669079623}"
      ]
     },
     "execution_count": 32,
     "metadata": {},
     "output_type": "execute_result"
    }
   ],
   "source": [
    "score"
   ]
  },
  {
   "cell_type": "code",
   "execution_count": 28,
   "metadata": {},
   "outputs": [
    {
     "name": "stdout",
     "output_type": "stream",
     "text": [
      "[2024-04-21 03:46:29,528: INFO: common_utils: yaml file: config\\config.yaml loaded successfully]\n"
     ]
    },
    {
     "name": "stdout",
     "output_type": "stream",
     "text": [
      "[2024-04-21 03:46:31,166: INFO: common_utils: yaml file: params.yaml loaded successfully]\n",
      "[2024-04-21 03:46:31,169: INFO: common_utils: Created directory at: artifacts]\n",
      "[2024-04-21 03:46:31,173: INFO: common_utils: Created directory at: artifacts/model_evaluation]\n"
     ]
    },
    {
     "name": "stderr",
     "output_type": "stream",
     "text": [
      "100%|██████████| 5/5 [07:13<00:00, 86.72s/it]\n"
     ]
    },
    {
     "name": "stdout",
     "output_type": "stream",
     "text": [
      "[2024-04-21 03:55:27,711: INFO: rouge_scorer: Using default tokenizer.]\n"
     ]
    }
   ],
   "source": [
    "try:\n",
    "    config = ConfigurationManager()\n",
    "    model_evaluation_config = config.fetch_modelevaluation_config()\n",
    "    model_evaluation_config = ModelEvaluation(model_evaluation_config)\n",
    "    score  = model_evaluation_config.evaluate()\n",
    "\n",
    "except Exception as e:\n",
    "    raise e"
   ]
  },
  {
   "cell_type": "code",
   "execution_count": 13,
   "metadata": {},
   "outputs": [],
   "source": [
    "from transformers import AutoTokenizer"
   ]
  },
  {
   "cell_type": "code",
   "execution_count": 14,
   "metadata": {},
   "outputs": [
    {
     "name": "stdout",
     "output_type": "stream",
     "text": [
      "Help on class AutoTokenizer in module transformers.models.auto.tokenization_auto:\n",
      "\n",
      "class AutoTokenizer(builtins.object)\n",
      " |  This is a generic tokenizer class that will be instantiated as one of the tokenizer classes of the library when\n",
      " |  created with the [`AutoTokenizer.from_pretrained`] class method.\n",
      " |  \n",
      " |  This class cannot be instantiated directly using `__init__()` (throws an error).\n",
      " |  \n",
      " |  Methods defined here:\n",
      " |  \n",
      " |  __init__(self)\n",
      " |      Initialize self.  See help(type(self)) for accurate signature.\n",
      " |  \n",
      " |  register(config_class, slow_tokenizer_class=None, fast_tokenizer_class=None, exist_ok=False)\n",
      " |      Register a new tokenizer in this mapping.\n",
      " |      \n",
      " |      \n",
      " |      Args:\n",
      " |          config_class ([`PretrainedConfig`]):\n",
      " |              The configuration corresponding to the model to register.\n",
      " |          slow_tokenizer_class ([`PretrainedTokenizer`], *optional*):\n",
      " |              The slow tokenizer to register.\n",
      " |          fast_tokenizer_class ([`PretrainedTokenizerFast`], *optional*):\n",
      " |              The fast tokenizer to register.\n",
      " |  \n",
      " |  ----------------------------------------------------------------------\n",
      " |  Class methods defined here:\n",
      " |  \n",
      " |  from_pretrained(pretrained_model_name_or_path, *inputs, **kwargs) from builtins.type\n",
      " |      Instantiate one of the tokenizer classes of the library from a pretrained model vocabulary.\n",
      " |      \n",
      " |      The tokenizer class to instantiate is selected based on the `model_type` property of the config object (either\n",
      " |      passed as an argument or loaded from `pretrained_model_name_or_path` if possible), or when it's missing, by\n",
      " |      falling back to using pattern matching on `pretrained_model_name_or_path`:\n",
      " |      \n",
      " |          - **albert** -- [`AlbertTokenizer`] or [`AlbertTokenizerFast`] (ALBERT model)\n",
      " |          - **align** -- [`BertTokenizer`] or [`BertTokenizerFast`] (ALIGN model)\n",
      " |          - **bark** -- [`BertTokenizer`] or [`BertTokenizerFast`] (Bark model)\n",
      " |          - **bart** -- [`BartTokenizer`] or [`BartTokenizerFast`] (BART model)\n",
      " |          - **barthez** -- [`BarthezTokenizer`] or [`BarthezTokenizerFast`] (BARThez model)\n",
      " |          - **bartpho** -- [`BartphoTokenizer`] (BARTpho model)\n",
      " |          - **bert** -- [`BertTokenizer`] or [`BertTokenizerFast`] (BERT model)\n",
      " |          - **bert-generation** -- [`BertGenerationTokenizer`] (Bert Generation model)\n",
      " |          - **bert-japanese** -- [`BertJapaneseTokenizer`] (BertJapanese model)\n",
      " |          - **bertweet** -- [`BertweetTokenizer`] (BERTweet model)\n",
      " |          - **big_bird** -- [`BigBirdTokenizer`] or [`BigBirdTokenizerFast`] (BigBird model)\n",
      " |          - **bigbird_pegasus** -- [`PegasusTokenizer`] or [`PegasusTokenizerFast`] (BigBird-Pegasus model)\n",
      " |          - **biogpt** -- [`BioGptTokenizer`] (BioGpt model)\n",
      " |          - **blenderbot** -- [`BlenderbotTokenizer`] or [`BlenderbotTokenizerFast`] (Blenderbot model)\n",
      " |          - **blenderbot-small** -- [`BlenderbotSmallTokenizer`] (BlenderbotSmall model)\n",
      " |          - **blip** -- [`BertTokenizer`] or [`BertTokenizerFast`] (BLIP model)\n",
      " |          - **blip-2** -- [`GPT2Tokenizer`] or [`GPT2TokenizerFast`] (BLIP-2 model)\n",
      " |          - **bloom** -- [`BloomTokenizerFast`] (BLOOM model)\n",
      " |          - **bridgetower** -- [`RobertaTokenizer`] or [`RobertaTokenizerFast`] (BridgeTower model)\n",
      " |          - **bros** -- [`BertTokenizer`] or [`BertTokenizerFast`] (BROS model)\n",
      " |          - **byt5** -- [`ByT5Tokenizer`] (ByT5 model)\n",
      " |          - **camembert** -- [`CamembertTokenizer`] or [`CamembertTokenizerFast`] (CamemBERT model)\n",
      " |          - **canine** -- [`CanineTokenizer`] (CANINE model)\n",
      " |          - **chinese_clip** -- [`BertTokenizer`] or [`BertTokenizerFast`] (Chinese-CLIP model)\n",
      " |          - **clap** -- [`RobertaTokenizer`] or [`RobertaTokenizerFast`] (CLAP model)\n",
      " |          - **clip** -- [`CLIPTokenizer`] or [`CLIPTokenizerFast`] (CLIP model)\n",
      " |          - **clipseg** -- [`CLIPTokenizer`] or [`CLIPTokenizerFast`] (CLIPSeg model)\n",
      " |          - **clvp** -- [`ClvpTokenizer`] (CLVP model)\n",
      " |          - **code_llama** -- [`CodeLlamaTokenizer`] or [`CodeLlamaTokenizerFast`] (CodeLlama model)\n",
      " |          - **codegen** -- [`CodeGenTokenizer`] or [`CodeGenTokenizerFast`] (CodeGen model)\n",
      " |          - **cohere** -- [`CohereTokenizerFast`] (Cohere model)\n",
      " |          - **convbert** -- [`ConvBertTokenizer`] or [`ConvBertTokenizerFast`] (ConvBERT model)\n",
      " |          - **cpm** -- [`CpmTokenizer`] or [`CpmTokenizerFast`] (CPM model)\n",
      " |          - **cpmant** -- [`CpmAntTokenizer`] (CPM-Ant model)\n",
      " |          - **ctrl** -- [`CTRLTokenizer`] (CTRL model)\n",
      " |          - **data2vec-audio** -- [`Wav2Vec2CTCTokenizer`] (Data2VecAudio model)\n",
      " |          - **data2vec-text** -- [`RobertaTokenizer`] or [`RobertaTokenizerFast`] (Data2VecText model)\n",
      " |          - **deberta** -- [`DebertaTokenizer`] or [`DebertaTokenizerFast`] (DeBERTa model)\n",
      " |          - **deberta-v2** -- [`DebertaV2Tokenizer`] or [`DebertaV2TokenizerFast`] (DeBERTa-v2 model)\n",
      " |          - **distilbert** -- [`DistilBertTokenizer`] or [`DistilBertTokenizerFast`] (DistilBERT model)\n",
      " |          - **dpr** -- [`DPRQuestionEncoderTokenizer`] or [`DPRQuestionEncoderTokenizerFast`] (DPR model)\n",
      " |          - **electra** -- [`ElectraTokenizer`] or [`ElectraTokenizerFast`] (ELECTRA model)\n",
      " |          - **ernie** -- [`BertTokenizer`] or [`BertTokenizerFast`] (ERNIE model)\n",
      " |          - **ernie_m** -- [`ErnieMTokenizer`] (ErnieM model)\n",
      " |          - **esm** -- [`EsmTokenizer`] (ESM model)\n",
      " |          - **falcon** -- [`PreTrainedTokenizerFast`] (Falcon model)\n",
      " |          - **fastspeech2_conformer** --  (FastSpeech2Conformer model)\n",
      " |          - **flaubert** -- [`FlaubertTokenizer`] (FlauBERT model)\n",
      " |          - **fnet** -- [`FNetTokenizer`] or [`FNetTokenizerFast`] (FNet model)\n",
      " |          - **fsmt** -- [`FSMTTokenizer`] (FairSeq Machine-Translation model)\n",
      " |          - **funnel** -- [`FunnelTokenizer`] or [`FunnelTokenizerFast`] (Funnel Transformer model)\n",
      " |          - **gemma** -- [`GemmaTokenizer`] or [`GemmaTokenizerFast`] (Gemma model)\n",
      " |          - **git** -- [`BertTokenizer`] or [`BertTokenizerFast`] (GIT model)\n",
      " |          - **gpt-sw3** -- [`GPTSw3Tokenizer`] (GPT-Sw3 model)\n",
      " |          - **gpt2** -- [`GPT2Tokenizer`] or [`GPT2TokenizerFast`] (OpenAI GPT-2 model)\n",
      " |          - **gpt_bigcode** -- [`GPT2Tokenizer`] or [`GPT2TokenizerFast`] (GPTBigCode model)\n",
      " |          - **gpt_neo** -- [`GPT2Tokenizer`] or [`GPT2TokenizerFast`] (GPT Neo model)\n",
      " |          - **gpt_neox** -- [`GPTNeoXTokenizerFast`] (GPT NeoX model)\n",
      " |          - **gpt_neox_japanese** -- [`GPTNeoXJapaneseTokenizer`] (GPT NeoX Japanese model)\n",
      " |          - **gptj** -- [`GPT2Tokenizer`] or [`GPT2TokenizerFast`] (GPT-J model)\n",
      " |          - **gptsan-japanese** -- [`GPTSanJapaneseTokenizer`] (GPTSAN-japanese model)\n",
      " |          - **groupvit** -- [`CLIPTokenizer`] or [`CLIPTokenizerFast`] (GroupViT model)\n",
      " |          - **herbert** -- [`HerbertTokenizer`] or [`HerbertTokenizerFast`] (HerBERT model)\n",
      " |          - **hubert** -- [`Wav2Vec2CTCTokenizer`] (Hubert model)\n",
      " |          - **ibert** -- [`RobertaTokenizer`] or [`RobertaTokenizerFast`] (I-BERT model)\n",
      " |          - **idefics** -- [`LlamaTokenizerFast`] (IDEFICS model)\n",
      " |          - **instructblip** -- [`GPT2Tokenizer`] or [`GPT2TokenizerFast`] (InstructBLIP model)\n",
      " |          - **jukebox** -- [`JukeboxTokenizer`] (Jukebox model)\n",
      " |          - **kosmos-2** -- [`XLMRobertaTokenizer`] or [`XLMRobertaTokenizerFast`] (KOSMOS-2 model)\n",
      " |          - **layoutlm** -- [`LayoutLMTokenizer`] or [`LayoutLMTokenizerFast`] (LayoutLM model)\n",
      " |          - **layoutlmv2** -- [`LayoutLMv2Tokenizer`] or [`LayoutLMv2TokenizerFast`] (LayoutLMv2 model)\n",
      " |          - **layoutlmv3** -- [`LayoutLMv3Tokenizer`] or [`LayoutLMv3TokenizerFast`] (LayoutLMv3 model)\n",
      " |          - **layoutxlm** -- [`LayoutXLMTokenizer`] or [`LayoutXLMTokenizerFast`] (LayoutXLM model)\n",
      " |          - **led** -- [`LEDTokenizer`] or [`LEDTokenizerFast`] (LED model)\n",
      " |          - **lilt** -- [`LayoutLMv3Tokenizer`] or [`LayoutLMv3TokenizerFast`] (LiLT model)\n",
      " |          - **llama** -- [`LlamaTokenizer`] or [`LlamaTokenizerFast`] (LLaMA model)\n",
      " |          - **llava** -- [`LlamaTokenizer`] or [`LlamaTokenizerFast`] (LLaVa model)\n",
      " |          - **llava_next** -- [`LlamaTokenizer`] or [`LlamaTokenizerFast`] (LLaVA-NeXT model)\n",
      " |          - **longformer** -- [`LongformerTokenizer`] or [`LongformerTokenizerFast`] (Longformer model)\n",
      " |          - **longt5** -- [`T5Tokenizer`] or [`T5TokenizerFast`] (LongT5 model)\n",
      " |          - **luke** -- [`LukeTokenizer`] (LUKE model)\n",
      " |          - **lxmert** -- [`LxmertTokenizer`] or [`LxmertTokenizerFast`] (LXMERT model)\n",
      " |          - **m2m_100** -- [`M2M100Tokenizer`] (M2M100 model)\n",
      " |          - **mamba** -- [`GPTNeoXTokenizerFast`] (Mamba model)\n",
      " |          - **marian** -- [`MarianTokenizer`] (Marian model)\n",
      " |          - **mbart** -- [`MBartTokenizer`] or [`MBartTokenizerFast`] (mBART model)\n",
      " |          - **mbart50** -- [`MBart50Tokenizer`] or [`MBart50TokenizerFast`] (mBART-50 model)\n",
      " |          - **mega** -- [`RobertaTokenizer`] or [`RobertaTokenizerFast`] (MEGA model)\n",
      " |          - **megatron-bert** -- [`BertTokenizer`] or [`BertTokenizerFast`] (Megatron-BERT model)\n",
      " |          - **mgp-str** -- [`MgpstrTokenizer`] (MGP-STR model)\n",
      " |          - **mistral** -- [`LlamaTokenizer`] or [`LlamaTokenizerFast`] (Mistral model)\n",
      " |          - **mixtral** -- [`LlamaTokenizer`] or [`LlamaTokenizerFast`] (Mixtral model)\n",
      " |          - **mluke** -- [`MLukeTokenizer`] (mLUKE model)\n",
      " |          - **mobilebert** -- [`MobileBertTokenizer`] or [`MobileBertTokenizerFast`] (MobileBERT model)\n",
      " |          - **mpnet** -- [`MPNetTokenizer`] or [`MPNetTokenizerFast`] (MPNet model)\n",
      " |          - **mpt** -- [`GPTNeoXTokenizerFast`] (MPT model)\n",
      " |          - **mra** -- [`RobertaTokenizer`] or [`RobertaTokenizerFast`] (MRA model)\n",
      " |          - **mt5** -- [`MT5Tokenizer`] or [`MT5TokenizerFast`] (MT5 model)\n",
      " |          - **musicgen** -- [`T5Tokenizer`] or [`T5TokenizerFast`] (MusicGen model)\n",
      " |          - **musicgen_melody** -- [`T5Tokenizer`] or [`T5TokenizerFast`] (MusicGen Melody model)\n",
      " |          - **mvp** -- [`MvpTokenizer`] or [`MvpTokenizerFast`] (MVP model)\n",
      " |          - **nezha** -- [`BertTokenizer`] or [`BertTokenizerFast`] (Nezha model)\n",
      " |          - **nllb** -- [`NllbTokenizer`] or [`NllbTokenizerFast`] (NLLB model)\n",
      " |          - **nllb-moe** -- [`NllbTokenizer`] or [`NllbTokenizerFast`] (NLLB-MOE model)\n",
      " |          - **nystromformer** -- [`AlbertTokenizer`] or [`AlbertTokenizerFast`] (Nyströmformer model)\n",
      " |          - **oneformer** -- [`CLIPTokenizer`] or [`CLIPTokenizerFast`] (OneFormer model)\n",
      " |          - **openai-gpt** -- [`OpenAIGPTTokenizer`] or [`OpenAIGPTTokenizerFast`] (OpenAI GPT model)\n",
      " |          - **opt** -- [`GPT2Tokenizer`] or [`GPT2TokenizerFast`] (OPT model)\n",
      " |          - **owlv2** -- [`CLIPTokenizer`] or [`CLIPTokenizerFast`] (OWLv2 model)\n",
      " |          - **owlvit** -- [`CLIPTokenizer`] or [`CLIPTokenizerFast`] (OWL-ViT model)\n",
      " |          - **pegasus** -- [`PegasusTokenizer`] or [`PegasusTokenizerFast`] (Pegasus model)\n",
      " |          - **pegasus_x** -- [`PegasusTokenizer`] or [`PegasusTokenizerFast`] (PEGASUS-X model)\n",
      " |          - **perceiver** -- [`PerceiverTokenizer`] (Perceiver model)\n",
      " |          - **persimmon** -- [`LlamaTokenizer`] or [`LlamaTokenizerFast`] (Persimmon model)\n",
      " |          - **phi** -- [`CodeGenTokenizer`] or [`CodeGenTokenizerFast`] (Phi model)\n",
      " |          - **phobert** -- [`PhobertTokenizer`] (PhoBERT model)\n",
      " |          - **pix2struct** -- [`T5Tokenizer`] or [`T5TokenizerFast`] (Pix2Struct model)\n",
      " |          - **plbart** -- [`PLBartTokenizer`] (PLBart model)\n",
      " |          - **prophetnet** -- [`ProphetNetTokenizer`] (ProphetNet model)\n",
      " |          - **qdqbert** -- [`BertTokenizer`] or [`BertTokenizerFast`] (QDQBert model)\n",
      " |          - **qwen2** -- [`Qwen2Tokenizer`] or [`Qwen2TokenizerFast`] (Qwen2 model)\n",
      " |          - **rag** -- [`RagTokenizer`] (RAG model)\n",
      " |          - **realm** -- [`RealmTokenizer`] or [`RealmTokenizerFast`] (REALM model)\n",
      " |          - **reformer** -- [`ReformerTokenizer`] or [`ReformerTokenizerFast`] (Reformer model)\n",
      " |          - **rembert** -- [`RemBertTokenizer`] or [`RemBertTokenizerFast`] (RemBERT model)\n",
      " |          - **retribert** -- [`RetriBertTokenizer`] or [`RetriBertTokenizerFast`] (RetriBERT model)\n",
      " |          - **roberta** -- [`RobertaTokenizer`] or [`RobertaTokenizerFast`] (RoBERTa model)\n",
      " |          - **roberta-prelayernorm** -- [`RobertaTokenizer`] or [`RobertaTokenizerFast`] (RoBERTa-PreLayerNorm model)\n",
      " |          - **roc_bert** -- [`RoCBertTokenizer`] (RoCBert model)\n",
      " |          - **roformer** -- [`RoFormerTokenizer`] or [`RoFormerTokenizerFast`] (RoFormer model)\n",
      " |          - **rwkv** -- [`GPTNeoXTokenizerFast`] (RWKV model)\n",
      " |          - **seamless_m4t** -- [`SeamlessM4TTokenizer`] or [`SeamlessM4TTokenizerFast`] (SeamlessM4T model)\n",
      " |          - **seamless_m4t_v2** -- [`SeamlessM4TTokenizer`] or [`SeamlessM4TTokenizerFast`] (SeamlessM4Tv2 model)\n",
      " |          - **siglip** -- [`SiglipTokenizer`] (SigLIP model)\n",
      " |          - **speech_to_text** -- [`Speech2TextTokenizer`] (Speech2Text model)\n",
      " |          - **speech_to_text_2** -- [`Speech2Text2Tokenizer`] (Speech2Text2 model)\n",
      " |          - **speecht5** -- [`SpeechT5Tokenizer`] (SpeechT5 model)\n",
      " |          - **splinter** -- [`SplinterTokenizer`] or [`SplinterTokenizerFast`] (Splinter model)\n",
      " |          - **squeezebert** -- [`SqueezeBertTokenizer`] or [`SqueezeBertTokenizerFast`] (SqueezeBERT model)\n",
      " |          - **stablelm** -- [`GPTNeoXTokenizerFast`] (StableLm model)\n",
      " |          - **starcoder2** -- [`GPT2Tokenizer`] or [`GPT2TokenizerFast`] (Starcoder2 model)\n",
      " |          - **switch_transformers** -- [`T5Tokenizer`] or [`T5TokenizerFast`] (SwitchTransformers model)\n",
      " |          - **t5** -- [`T5Tokenizer`] or [`T5TokenizerFast`] (T5 model)\n",
      " |          - **tapas** -- [`TapasTokenizer`] (TAPAS model)\n",
      " |          - **tapex** -- [`TapexTokenizer`] (TAPEX model)\n",
      " |          - **transfo-xl** -- [`TransfoXLTokenizer`] (Transformer-XL model)\n",
      " |          - **tvp** -- [`BertTokenizer`] or [`BertTokenizerFast`] (TVP model)\n",
      " |          - **udop** -- [`UdopTokenizer`] or [`UdopTokenizerFast`] (UDOP model)\n",
      " |          - **umt5** -- [`T5Tokenizer`] or [`T5TokenizerFast`] (UMT5 model)\n",
      " |          - **vilt** -- [`BertTokenizer`] or [`BertTokenizerFast`] (ViLT model)\n",
      " |          - **vipllava** -- [`LlamaTokenizer`] or [`LlamaTokenizerFast`] (VipLlava model)\n",
      " |          - **visual_bert** -- [`BertTokenizer`] or [`BertTokenizerFast`] (VisualBERT model)\n",
      " |          - **vits** -- [`VitsTokenizer`] (VITS model)\n",
      " |          - **wav2vec2** -- [`Wav2Vec2CTCTokenizer`] (Wav2Vec2 model)\n",
      " |          - **wav2vec2-bert** -- [`Wav2Vec2CTCTokenizer`] (Wav2Vec2-BERT model)\n",
      " |          - **wav2vec2-conformer** -- [`Wav2Vec2CTCTokenizer`] (Wav2Vec2-Conformer model)\n",
      " |          - **wav2vec2_phoneme** -- [`Wav2Vec2PhonemeCTCTokenizer`] (Wav2Vec2Phoneme model)\n",
      " |          - **whisper** -- [`WhisperTokenizer`] or [`WhisperTokenizerFast`] (Whisper model)\n",
      " |          - **xclip** -- [`CLIPTokenizer`] or [`CLIPTokenizerFast`] (X-CLIP model)\n",
      " |          - **xglm** -- [`XGLMTokenizer`] or [`XGLMTokenizerFast`] (XGLM model)\n",
      " |          - **xlm** -- [`XLMTokenizer`] (XLM model)\n",
      " |          - **xlm-prophetnet** -- [`XLMProphetNetTokenizer`] (XLM-ProphetNet model)\n",
      " |          - **xlm-roberta** -- [`XLMRobertaTokenizer`] or [`XLMRobertaTokenizerFast`] (XLM-RoBERTa model)\n",
      " |          - **xlm-roberta-xl** -- [`XLMRobertaTokenizer`] or [`XLMRobertaTokenizerFast`] (XLM-RoBERTa-XL model)\n",
      " |          - **xlnet** -- [`XLNetTokenizer`] or [`XLNetTokenizerFast`] (XLNet model)\n",
      " |          - **xmod** -- [`XLMRobertaTokenizer`] or [`XLMRobertaTokenizerFast`] (X-MOD model)\n",
      " |          - **yoso** -- [`AlbertTokenizer`] or [`AlbertTokenizerFast`] (YOSO model)\n",
      " |      \n",
      " |      Params:\n",
      " |          pretrained_model_name_or_path (`str` or `os.PathLike`):\n",
      " |              Can be either:\n",
      " |      \n",
      " |                  - A string, the *model id* of a predefined tokenizer hosted inside a model repo on huggingface.co.\n",
      " |                  - A path to a *directory* containing vocabulary files required by the tokenizer, for instance saved\n",
      " |                    using the [`~PreTrainedTokenizer.save_pretrained`] method, e.g., `./my_model_directory/`.\n",
      " |                  - A path or url to a single saved vocabulary file if and only if the tokenizer only requires a\n",
      " |                    single vocabulary file (like Bert or XLNet), e.g.: `./my_model_directory/vocab.txt`. (Not\n",
      " |                    applicable to all derived classes)\n",
      " |          inputs (additional positional arguments, *optional*):\n",
      " |              Will be passed along to the Tokenizer `__init__()` method.\n",
      " |          config ([`PretrainedConfig`], *optional*)\n",
      " |              The configuration object used to determine the tokenizer class to instantiate.\n",
      " |          cache_dir (`str` or `os.PathLike`, *optional*):\n",
      " |              Path to a directory in which a downloaded pretrained model configuration should be cached if the\n",
      " |              standard cache should not be used.\n",
      " |          force_download (`bool`, *optional*, defaults to `False`):\n",
      " |              Whether or not to force the (re-)download the model weights and configuration files and override the\n",
      " |              cached versions if they exist.\n",
      " |          resume_download (`bool`, *optional*, defaults to `False`):\n",
      " |              Whether or not to delete incompletely received files. Will attempt to resume the download if such a\n",
      " |              file exists.\n",
      " |          proxies (`Dict[str, str]`, *optional*):\n",
      " |              A dictionary of proxy servers to use by protocol or endpoint, e.g., `{'http': 'foo.bar:3128',\n",
      " |              'http://hostname': 'foo.bar:4012'}`. The proxies are used on each request.\n",
      " |          revision (`str`, *optional*, defaults to `\"main\"`):\n",
      " |              The specific model version to use. It can be a branch name, a tag name, or a commit id, since we use a\n",
      " |              git-based system for storing models and other artifacts on huggingface.co, so `revision` can be any\n",
      " |              identifier allowed by git.\n",
      " |          subfolder (`str`, *optional*):\n",
      " |              In case the relevant files are located inside a subfolder of the model repo on huggingface.co (e.g. for\n",
      " |              facebook/rag-token-base), specify it here.\n",
      " |          use_fast (`bool`, *optional*, defaults to `True`):\n",
      " |              Use a [fast Rust-based tokenizer](https://huggingface.co/docs/tokenizers/index) if it is supported for\n",
      " |              a given model. If a fast tokenizer is not available for a given model, a normal Python-based tokenizer\n",
      " |              is returned instead.\n",
      " |          tokenizer_type (`str`, *optional*):\n",
      " |              Tokenizer type to be loaded.\n",
      " |          trust_remote_code (`bool`, *optional*, defaults to `False`):\n",
      " |              Whether or not to allow for custom models defined on the Hub in their own modeling files. This option\n",
      " |              should only be set to `True` for repositories you trust and in which you have read the code, as it will\n",
      " |              execute code present on the Hub on your local machine.\n",
      " |          kwargs (additional keyword arguments, *optional*):\n",
      " |              Will be passed to the Tokenizer `__init__()` method. Can be used to set special tokens like\n",
      " |              `bos_token`, `eos_token`, `unk_token`, `sep_token`, `pad_token`, `cls_token`, `mask_token`,\n",
      " |              `additional_special_tokens`. See parameters in the `__init__()` for more details.\n",
      " |      \n",
      " |      Examples:\n",
      " |      \n",
      " |      ```python\n",
      " |      >>> from transformers import AutoTokenizer\n",
      " |      \n",
      " |      >>> # Download vocabulary from huggingface.co and cache.\n",
      " |      >>> tokenizer = AutoTokenizer.from_pretrained(\"google-bert/bert-base-uncased\")\n",
      " |      \n",
      " |      >>> # Download vocabulary from huggingface.co (user-uploaded) and cache.\n",
      " |      >>> tokenizer = AutoTokenizer.from_pretrained(\"dbmdz/bert-base-german-cased\")\n",
      " |      \n",
      " |      >>> # If vocabulary files are in a directory (e.g. tokenizer was saved using *save_pretrained('./test/saved_model/')*)\n",
      " |      >>> # tokenizer = AutoTokenizer.from_pretrained(\"./test/bert_saved_model/\")\n",
      " |      \n",
      " |      >>> # Download vocabulary from huggingface.co and define model-specific arguments\n",
      " |      >>> tokenizer = AutoTokenizer.from_pretrained(\"FacebookAI/roberta-base\", add_prefix_space=True)\n",
      " |      ```\n",
      " |  \n",
      " |  ----------------------------------------------------------------------\n",
      " |  Data descriptors defined here:\n",
      " |  \n",
      " |  __dict__\n",
      " |      dictionary for instance variables (if defined)\n",
      " |  \n",
      " |  __weakref__\n",
      " |      list of weak references to the object (if defined)\n",
      "\n"
     ]
    }
   ],
   "source": [
    "help(AutoTokenizer)"
   ]
  },
  {
   "cell_type": "code",
   "execution_count": 17,
   "metadata": {},
   "outputs": [
    {
     "data": {
      "text/plain": [
       "('artifacts/model_trainer/tokenizer\\\\tokenizer_config.json',\n",
       " 'artifacts/model_trainer/tokenizer\\\\special_tokens_map.json',\n",
       " 'artifacts/model_trainer/tokenizer\\\\spiece.model',\n",
       " 'artifacts/model_trainer/tokenizer\\\\added_tokens.json',\n",
       " 'artifacts/model_trainer/tokenizer\\\\tokenizer.json')"
      ]
     },
     "execution_count": 17,
     "metadata": {},
     "output_type": "execute_result"
    }
   ],
   "source": [
    "tokenizer = AutoTokenizer.from_pretrained(\"google/pegasus-cnn_dailymail\")\n",
    "tokenizer.save_pretrained(os.path.join(\"artifacts/model_trainer/\", \"tokenizer\"))"
   ]
  },
  {
   "cell_type": "code",
   "execution_count": 18,
   "metadata": {},
   "outputs": [],
   "source": [
    "tokenizer = AutoTokenizer.from_pretrained(\"artifacts/model_trainer/tokenizer/\")#AutoTokenizer.from_pretrained(\"artifacts/model_trainer/tokenizer\")"
   ]
  }
 ],
 "metadata": {
  "kernelspec": {
   "display_name": "textS",
   "language": "python",
   "name": "python3"
  },
  "language_info": {
   "codemirror_mode": {
    "name": "ipython",
    "version": 3
   },
   "file_extension": ".py",
   "mimetype": "text/x-python",
   "name": "python",
   "nbconvert_exporter": "python",
   "pygments_lexer": "ipython3",
   "version": "3.8.0"
  }
 },
 "nbformat": 4,
 "nbformat_minor": 2
}
